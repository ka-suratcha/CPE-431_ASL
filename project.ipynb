{
 "cells": [
  {
   "cell_type": "code",
   "execution_count": 1,
   "metadata": {},
   "outputs": [
    {
     "ename": "ModuleNotFoundError",
     "evalue": "No module named 'cv2'",
     "output_type": "error",
     "traceback": [
      "\u001b[1;31m---------------------------------------------------------------------------\u001b[0m",
      "\u001b[1;31mModuleNotFoundError\u001b[0m                       Traceback (most recent call last)",
      "Cell \u001b[1;32mIn[1], line 1\u001b[0m\n\u001b[1;32m----> 1\u001b[0m \u001b[38;5;28;01mimport\u001b[39;00m \u001b[38;5;21;01mcv2\u001b[39;00m \u001b[38;5;28;01mas\u001b[39;00m \u001b[38;5;21;01mcv\u001b[39;00m\n\u001b[0;32m      2\u001b[0m \u001b[38;5;28;01mfrom\u001b[39;00m \u001b[38;5;21;01mcvzone\u001b[39;00m\u001b[38;5;21;01m.\u001b[39;00m\u001b[38;5;21;01mHandTrackingModule\u001b[39;00m \u001b[38;5;28;01mimport\u001b[39;00m HandDetector\n\u001b[0;32m      3\u001b[0m \u001b[38;5;28;01mimport\u001b[39;00m \u001b[38;5;21;01mnumpy\u001b[39;00m \u001b[38;5;28;01mas\u001b[39;00m \u001b[38;5;21;01mnp\u001b[39;00m\n",
      "\u001b[1;31mModuleNotFoundError\u001b[0m: No module named 'cv2'"
     ]
    }
   ],
   "source": [
    "import cv2 as cv\n",
    "from cvzone.HandTrackingModule import HandDetector\n",
    "import numpy as np\n",
    "import math\n",
    "import time\n",
    "\n",
    "cap = cv.VideoCapture(0)\n",
    "\n",
    "detector = HandDetector(maxHands=2)\n",
    "offset = 20  \n",
    "imgSize = 800\n",
    "\n",
    "folder = \"Data\"\n",
    "cnt = 0\n",
    "while True:\n",
    "    success, img = cap.read()\n",
    "    try:\n",
    "        hands, img = detector.findHands(img)\n",
    "\n",
    "        if hands:\n",
    "            hand = hands[0]\n",
    "        x, y, w, h = hand['bbox']\n",
    "        \n",
    "        imgWhite = np.ones((imgSize, imgSize, 3),np.uint8)*255\n",
    "        imgCrop = img[y-offset:y + h+offset, x-offset:x + w+offset]\n",
    "        \n",
    "        imgCropShape = imgCrop.shape\n",
    "        imgWhite[0:imgCropShape[0],0:imgCropShape[1]] = imgCrop\n",
    "        \n",
    "        \n",
    "        ratio = h/w\n",
    "        \n",
    "        if ratio > 1:\n",
    "            c = imgSize/h\n",
    "            wCal = math.ceil(c*w)\n",
    "            imgResize = cv.resize(imgCrop,(wCal,imgSize))\n",
    "            imgResizeShape = imgResize.shape\n",
    "            wGap = math.ceil((imgSize-wCal)/2)\n",
    "            imgWhite[:, wGap:wCal+wGap] = imgResize\n",
    "        else:\n",
    "            c = imgSize/w\n",
    "            hCal = math.ceil(c*h)\n",
    "            imgResize = cv.resize(imgCrop, (imgSize, hCal))\n",
    "            imgResizeShape = imgResize.shape\n",
    "            hGap = math.ceil((imgSize-hCal)/2)\n",
    "            imgWhite[hGap:hCal+hGap, :] = imgResize\n",
    "        \n",
    "        cv.imshow(\"ImageCrop\", imgCrop)\n",
    "        #cv.imshow(\"ImageWhite\", imgWhite) \n",
    "    except:\n",
    "        print(\"hand hai\")\n",
    "    \n",
    "    cv.imshow(\"Image\", img)\n",
    "    key = cv.waitKey(1)\n",
    "    if key == ord('s'):\n",
    "        cnt+=1\n",
    "        cv.imwrite(f'{folder}/Image_{time.time()}.jpg',imgWhite)\n",
    "        print(cnt)\n",
    "    if key & 0xFF == ord('q'):\n",
    "        break\n",
    "cap.release\n",
    "cv.destroyAllWindows()\n",
    "cv.waitKey(0)"
   ]
  },
  {
   "cell_type": "code",
   "execution_count": null,
   "metadata": {},
   "outputs": [],
   "source": []
  }
 ],
 "metadata": {
  "kernelspec": {
   "display_name": "base",
   "language": "python",
   "name": "python3"
  },
  "language_info": {
   "codemirror_mode": {
    "name": "ipython",
    "version": 3
   },
   "file_extension": ".py",
   "mimetype": "text/x-python",
   "name": "python",
   "nbconvert_exporter": "python",
   "pygments_lexer": "ipython3",
   "version": "3.12.7"
  },
  "orig_nbformat": 4,
  "vscode": {
   "interpreter": {
    "hash": "a90aeebcf29d64a654773811cc170cb25061cb2498f10ac689db374c7bf325de"
   }
  }
 },
 "nbformat": 4,
 "nbformat_minor": 2
}
